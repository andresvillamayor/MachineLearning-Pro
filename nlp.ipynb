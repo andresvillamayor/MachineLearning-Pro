{
  "nbformat": 4,
  "nbformat_minor": 0,
  "metadata": {
    "colab": {
      "name": "nlp.ipynb",
      "provenance": [],
      "collapsed_sections": [],
      "toc_visible": true,
      "include_colab_link": true
    },
    "kernelspec": {
      "name": "python3",
      "display_name": "Python 3"
    }
  },
  "cells": [
    {
      "cell_type": "markdown",
      "metadata": {
        "id": "view-in-github",
        "colab_type": "text"
      },
      "source": [
        "<a href=\"https://colab.research.google.com/github/andresvillamayor/MachineLearning-Pro/blob/main/nlp.ipynb\" target=\"_parent\"><img src=\"https://colab.research.google.com/assets/colab-badge.svg\" alt=\"Open In Colab\"/></a>"
      ]
    },
    {
      "cell_type": "code",
      "metadata": {
        "id": "B4TPQGFaIosy"
      },
      "source": [
        "import pandas as pd\n",
        "from  google.colab import drive "
      ],
      "execution_count": null,
      "outputs": []
    },
    {
      "cell_type": "code",
      "metadata": {
        "id": "CX9yX6zGApJX",
        "outputId": "ab2eddfc-cd66-4b0e-d853-82ebc2524a2b",
        "colab": {
          "base_uri": "https://localhost:8080/"
        }
      },
      "source": [
        "drive.mount(\"/content/drive\")"
      ],
      "execution_count": null,
      "outputs": [
        {
          "output_type": "stream",
          "text": [
            "Mounted at /content/drive\n"
          ],
          "name": "stdout"
        }
      ]
    },
    {
      "cell_type": "code",
      "metadata": {
        "id": "78aKZGxAAw_w"
      },
      "source": [
        "data = pd.read_csv(\"/content/drive/My Drive/ML/reviews_original.csv\", sep=\"|\",  engine=\"python\")"
      ],
      "execution_count": null,
      "outputs": []
    },
    {
      "cell_type": "code",
      "metadata": {
        "id": "aMrN2yu0CtMf",
        "outputId": "581e6870-0d54-4201-8230-b948d9f2a895",
        "colab": {
          "base_uri": "https://localhost:8080/",
          "height": 204
        }
      },
      "source": [
        "data.head()"
      ],
      "execution_count": null,
      "outputs": [
        {
          "output_type": "execute_result",
          "data": {
            "text/html": [
              "<div>\n",
              "<style scoped>\n",
              "    .dataframe tbody tr th:only-of-type {\n",
              "        vertical-align: middle;\n",
              "    }\n",
              "\n",
              "    .dataframe tbody tr th {\n",
              "        vertical-align: top;\n",
              "    }\n",
              "\n",
              "    .dataframe thead th {\n",
              "        text-align: right;\n",
              "    }\n",
              "</style>\n",
              "<table border=\"1\" class=\"dataframe\">\n",
              "  <thead>\n",
              "    <tr style=\"text-align: right;\">\n",
              "      <th></th>\n",
              "      <th>estrella</th>\n",
              "      <th>texto</th>\n",
              "      <th>lugar</th>\n",
              "    </tr>\n",
              "  </thead>\n",
              "  <tbody>\n",
              "    <tr>\n",
              "      <th>0</th>\n",
              "      <td>40</td>\n",
              "      <td>Abierto durante el dia normalment con alguien ...</td>\n",
              "      <td>recoleta</td>\n",
              "    </tr>\n",
              "    <tr>\n",
              "      <th>1</th>\n",
              "      <td>10</td>\n",
              "      <td>No se puede creer que un lugar historico y emb...</td>\n",
              "      <td>recoleta</td>\n",
              "    </tr>\n",
              "    <tr>\n",
              "      <th>2</th>\n",
              "      <td>40</td>\n",
              "      <td>Este cementerio esta ubicado en el corazon de ...</td>\n",
              "      <td>recoleta</td>\n",
              "    </tr>\n",
              "    <tr>\n",
              "      <th>3</th>\n",
              "      <td>30</td>\n",
              "      <td>La iglesia y el cementerio de antaño, recomend...</td>\n",
              "      <td>recoleta</td>\n",
              "    </tr>\n",
              "    <tr>\n",
              "      <th>4</th>\n",
              "      <td>20</td>\n",
              "      <td>Con el correr del tiempo y el rapido crecimien...</td>\n",
              "      <td>recoleta</td>\n",
              "    </tr>\n",
              "  </tbody>\n",
              "</table>\n",
              "</div>"
            ],
            "text/plain": [
              "   estrella                                              texto     lugar\n",
              "0        40  Abierto durante el dia normalment con alguien ...  recoleta\n",
              "1        10  No se puede creer que un lugar historico y emb...  recoleta\n",
              "2        40  Este cementerio esta ubicado en el corazon de ...  recoleta\n",
              "3        30  La iglesia y el cementerio de antaño, recomend...  recoleta\n",
              "4        20  Con el correr del tiempo y el rapido crecimien...  recoleta"
            ]
          },
          "metadata": {
            "tags": []
          },
          "execution_count": 4
        }
      ]
    },
    {
      "cell_type": "code",
      "metadata": {
        "id": "rdjsevpZGPO2"
      },
      "source": [
        "import matplotlib.pyplot as plt"
      ],
      "execution_count": null,
      "outputs": []
    },
    {
      "cell_type": "code",
      "metadata": {
        "id": "Zt-nTmKpHqJS",
        "outputId": "6833bdf9-72f7-4f4f-86ab-306437d05558",
        "colab": {
          "base_uri": "https://localhost:8080/",
          "height": 333
        }
      },
      "source": [
        "plt.hist(data['estrella'])"
      ],
      "execution_count": null,
      "outputs": [
        {
          "output_type": "execute_result",
          "data": {
            "text/plain": [
              "(array([  88.,    0.,  180.,    0.,    0.,  975.,    0., 2122.,    0.,\n",
              "        2648.]),\n",
              " array([10., 14., 18., 22., 26., 30., 34., 38., 42., 46., 50.]),\n",
              " <a list of 10 Patch objects>)"
            ]
          },
          "metadata": {
            "tags": []
          },
          "execution_count": 6
        },
        {
          "output_type": "display_data",
          "data": {
            "image/png": "[encoded data removed]",
            "text/plain": [
              "<Figure size 432x288 with 1 Axes>"
            ]
          },
          "metadata": {
            "tags": [],
            "needs_background": "light"
          }
        }
      ]
    },
    {
      "cell_type": "code",
      "metadata": {
        "id": "c2QoKMqWKMOs",
        "outputId": "48135cd1-ce4f-49cb-eb77-fea2005e4d61",
        "colab": {
          "base_uri": "https://localhost:8080/",
          "height": 204
        }
      },
      "source": [
        "data['texto'] = data['texto'].str.strip()\n",
        "data.head()"
      ],
      "execution_count": null,
      "outputs": [
        {
          "output_type": "execute_result",
          "data": {
            "text/html": [
              "<div>\n",
              "<style scoped>\n",
              "    .dataframe tbody tr th:only-of-type {\n",
              "        vertical-align: middle;\n",
              "    }\n",
              "\n",
              "    .dataframe tbody tr th {\n",
              "        vertical-align: top;\n",
              "    }\n",
              "\n",
              "    .dataframe thead th {\n",
              "        text-align: right;\n",
              "    }\n",
              "</style>\n",
              "<table border=\"1\" class=\"dataframe\">\n",
              "  <thead>\n",
              "    <tr style=\"text-align: right;\">\n",
              "      <th></th>\n",
              "      <th>estrella</th>\n",
              "      <th>texto</th>\n",
              "      <th>lugar</th>\n",
              "    </tr>\n",
              "  </thead>\n",
              "  <tbody>\n",
              "    <tr>\n",
              "      <th>0</th>\n",
              "      <td>40</td>\n",
              "      <td>Abierto durante el dia normalment con alguien ...</td>\n",
              "      <td>recoleta</td>\n",
              "    </tr>\n",
              "    <tr>\n",
              "      <th>1</th>\n",
              "      <td>10</td>\n",
              "      <td>No se puede creer que un lugar historico y emb...</td>\n",
              "      <td>recoleta</td>\n",
              "    </tr>\n",
              "    <tr>\n",
              "      <th>2</th>\n",
              "      <td>40</td>\n",
              "      <td>Este cementerio esta ubicado en el corazon de ...</td>\n",
              "      <td>recoleta</td>\n",
              "    </tr>\n",
              "    <tr>\n",
              "      <th>3</th>\n",
              "      <td>30</td>\n",
              "      <td>La iglesia y el cementerio de antaño, recomend...</td>\n",
              "      <td>recoleta</td>\n",
              "    </tr>\n",
              "    <tr>\n",
              "      <th>4</th>\n",
              "      <td>20</td>\n",
              "      <td>Con el correr del tiempo y el rapido crecimien...</td>\n",
              "      <td>recoleta</td>\n",
              "    </tr>\n",
              "  </tbody>\n",
              "</table>\n",
              "</div>"
            ],
            "text/plain": [
              "   estrella                                              texto     lugar\n",
              "0        40  Abierto durante el dia normalment con alguien ...  recoleta\n",
              "1        10  No se puede creer que un lugar historico y emb...  recoleta\n",
              "2        40  Este cementerio esta ubicado en el corazon de ...  recoleta\n",
              "3        30  La iglesia y el cementerio de antaño, recomend...  recoleta\n",
              "4        20  Con el correr del tiempo y el rapido crecimien...  recoleta"
            ]
          },
          "metadata": {
            "tags": []
          },
          "execution_count": 7
        }
      ]
    },
    {
      "cell_type": "code",
      "metadata": {
        "id": "tkLwGtePPTqX"
      },
      "source": [
        "from bs4 import BeautifulSoup\n",
        "import re\n",
        "#######\n",
        "#from nltk.corpus import stopwords\n",
        "#from nltk import word_tokenize\n",
        "#from string import punctuation\n",
        "#spanish_stopwords = stopwords.words('spanish')\n",
        "#lista de valores para quita( puntos, comas, dos puntos )\n",
        "#non_words = list(punctuation)\n",
        "#agregar valores \n",
        "#non_words.extend(['¿', '¡','rt','RT','➡','🦠','\"','\"\"'])\n",
        "#non_words.extend(map(str,range(10)))\n",
        "# vector_texto = []\n",
        "    # normalizamos a minusculas\n",
        "    #tokens = [w.lower() for w in tokens]\n",
        "    # colocamos el stopwords\n",
        "    #tokens =  [w for w in tokens if not w in spanish_stopwords]\n",
        "    #for item in tokens:\n",
        "        #vector_texto.append((item))  \n",
        "    #return vector_texto\n",
        "\n",
        "\n",
        "    # normalizamos a minusculas\n",
        "    #tokens = [w.lower() for w in tokens]\n",
        "    # colocamos el stopwords\n",
        "    #tokens =  [w for w in tokens if not w in spanish_stopwords]\n",
        "#\n",
        "#\n",
        "#\n",
        "#\n",
        "#\n",
        "#\n",
        "\n",
        "def clean_text(text):\n",
        "    text = BeautifulSoup(text, \"lxml\").get_text()\n",
        "    # Eliminamos la @ y su mención\n",
        "    text = re.sub(r\"@[A-Za-z0-9]+\", ' ', text)\n",
        "    # Eliminamos los links de las URLs\n",
        "    text = re.sub(r\"https?://[A-Za-z0-9./]+\", ' ', text)\n",
        "    # Nos quedamos solamente con los caracteres\n",
        "   \n",
        "\n",
        "    text = re.sub(r\"\\.\\.?\\.?\\s?\", ' ', text)\n",
        "    text = re.sub('([A-Za-z])\\,([A-Za-z])', '\\\\1, \\\\2', text)\n",
        "    text = re.sub('([A-Za-z])\\!([A-Za-z])', '\\\\1! \\\\2', text)\n",
        "   \n",
        "    text = re.sub(r\"[^a-zA-ZñÑ.!?']\", ' ', text)\n",
        "    # Eliminamos espacios en blanco adicionales\n",
        "    text = re.sub(r\" +\", ' ', text)\n",
        "    return text\n",
        "\n",
        "\n",
        "   "
      ],
      "execution_count": null,
      "outputs": []
    },
    {
      "cell_type": "code",
      "metadata": {
        "id": "lNk4eDGCQI9z"
      },
      "source": [
        "data_clean = [clean_text(text) for text in data['texto']]"
      ],
      "execution_count": null,
      "outputs": []
    },
    {
      "cell_type": "code",
      "metadata": {
        "id": "qog3BXR7R3lU",
        "outputId": "c834991c-eb43-46e5-fbb7-89e2b35920ef",
        "colab": {
          "base_uri": "https://localhost:8080/",
          "height": 52
        }
      },
      "source": [
        "data.iloc[1006][\"texto\"]"
      ],
      "execution_count": null,
      "outputs": [
        {
          "output_type": "execute_result",
          "data": {
            "application/vnd.google.colaboratory.intrinsic+json": {
              "type": "string"
            },
            "text/plain": [
              "'Un buen local historico del Paraguay. La historia del pueblo paraguayo y sus heroes. Muy central y facil aceso. Un buen recuerdo del pasado historico del pays.'"
            ]
          },
          "metadata": {
            "tags": []
          },
          "execution_count": 29
        }
      ]
    },
    {
      "cell_type": "code",
      "metadata": {
        "id": "t5sX3tANcY9C",
        "outputId": "eed7d3a9-19b0-418a-83b1-faf8d5ade098",
        "colab": {
          "base_uri": "https://localhost:8080/"
        }
      },
      "source": [
        "len(data_clean), data_clean[1003]"
      ],
      "execution_count": null,
      "outputs": [
        {
          "output_type": "execute_result",
          "data": {
            "text/plain": [
              "(6013,\n",
              " 'El Panteon Nacional de los Heroes es sin duda uno de los atractivos mas interesantes de la Ciudad de Asuncion El edificio esta custodiado de manera simbolica por dos soldados con sus uniformes de antaño Las placas que conmeran eventos distinciones y reconocimientos asi como las estatuas de los heroes son muy interesante de ver con detenimiento Es una visita emotiva para quienes aprecian de la historia! Absolutamente recomendable!')"
            ]
          },
          "metadata": {
            "tags": []
          },
          "execution_count": 26
        }
      ]
    }
  ]
}